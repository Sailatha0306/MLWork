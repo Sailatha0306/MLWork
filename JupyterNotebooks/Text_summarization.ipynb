{
 "cells": [
  {
   "cell_type": "markdown",
   "metadata": {},
   "source": [
    "Import all the required packages"
   ]
  },
  {
   "cell_type": "code",
   "execution_count": 1,
   "metadata": {},
   "outputs": [],
   "source": [
    "from bs4 import BeautifulSoup\n",
    "import requests\n",
    "from nltk.tokenize import sent_tokenize,word_tokenize\n",
    "from nltk.corpus import stopwords\n",
    "from collections import defaultdict\n",
    "from string import punctuation\n",
    "from heapq import nlargest"
   ]
  },
  {
   "cell_type": "markdown",
   "metadata": {},
   "source": [
    "Minimum and maximum frequency cutoff values for the words."
   ]
  },
  {
   "cell_type": "code",
   "execution_count": 18,
   "metadata": {},
   "outputs": [],
   "source": [
    "min_freq = 0.1\n",
    "max_freq = 0.9 \n",
    "my_stopwords = set(stopwords.words('english') + list(punctuation))"
   ]
  },
  {
   "cell_type": "code",
   "execution_count": 16,
   "metadata": {},
   "outputs": [],
   "source": [
    "def cal_frequencies(word_sentence):\n",
    "    freq = defaultdict(int)\n",
    "    for words in word_sentence:\n",
    "        for word in words:\n",
    "            if word not in my_stopwords:\n",
    "                freq[word] += 1\n",
    "    \n",
    "    #normalize the frequency values\n",
    "    max_val = float(max(freq.values()))\n",
    "    for word in list(freq):\n",
    "        freq[word] = freq[word]/max_val\n",
    "        if freq[word] >= max_freq or freq[word] <= min_freq:\n",
    "            del freq[word]\n",
    "    return freq        "
   ]
  },
  {
   "cell_type": "code",
   "execution_count": 20,
   "metadata": {},
   "outputs": [],
   "source": [
    "def summarize(text, n):\n",
    "    sentences = sent_tokenize(text)\n",
    "    assert n <= len(sentences)\n",
    "    word_sentence = [word_tokenize(s.lower()) for s in sentences]\n",
    "    freq = cal_frequencies(word_sentence)\n",
    "    ranking = defaultdict(int)\n",
    "    for i,sentence in enumerate(word_sentence):\n",
    "      for w in sentence:\n",
    "        if w in freq:\n",
    "          ranking[i] += freq[w]\n",
    "    sentences_idx = rank(ranking, n)    \n",
    "    return [sentences[j] for j in sentences_idx]"
   ]
  },
  {
   "cell_type": "code",
   "execution_count": 6,
   "metadata": {},
   "outputs": [],
   "source": [
    "def getContentFromURL(url):\n",
    "    req = requests.get(url)\n",
    "    soup = BeautifulSoup(req.text, \"html.parser\")\n",
    "    text = ' '.join(map(lambda p: p.text, soup.find_all('p')))\n",
    "    return text"
   ]
  },
  {
   "cell_type": "code",
   "execution_count": 8,
   "metadata": {},
   "outputs": [],
   "source": [
    "def rank(ranking, n):\n",
    "    return nlargest(n, ranking, key=ranking.get)"
   ]
  },
  {
   "cell_type": "code",
   "execution_count": 7,
   "metadata": {},
   "outputs": [],
   "source": [
    "def summarizeURL(url, total_pars):\n",
    "    url_text = getContentFromURL(url).replace(u\"Â\", u\"\").replace(u\"â\", u\"\")\n",
    "    final_summary = summarize(url_text.replace(\"\\n\",\" \"), total_pars)\n",
    "    return \" \".join(final_summary)"
   ]
  },
  {
   "cell_type": "code",
   "execution_count": 30,
   "metadata": {},
   "outputs": [],
   "source": [
    "def process_url(url):\n",
    "    final_summary = summarizeURL(url, 5)\n",
    "    print(\"\\n\\n\\nTHE SUMMARY IS \\n \\n \\n \",final_summary)"
   ]
  },
  {
   "cell_type": "code",
   "execution_count": 29,
   "metadata": {},
   "outputs": [],
   "source": [
    "def process_text(text):\n",
    "    final_summary = summarize(text.replace(\"\\n\",\" \"), 5)\n",
    "    print(\"\\n\\n\\nTHE SUMMARY IS \\n \\n \\n \",final_summary)"
   ]
  },
  {
   "cell_type": "code",
   "execution_count": 31,
   "metadata": {},
   "outputs": [
    {
     "name": "stdout",
     "output_type": "stream",
     "text": [
      "Do you want to enter a \n",
      " 1.URL \n",
      " 2.Text\n",
      "1\n",
      "Enter the text \n",
      "Labour plans maternity pay rise  Maternity pay for new mothers is to rise by £1,400 as part of new proposals announced by the Trade and Industry Secretary Patricia Hewitt.  It would mean paid leave would be increased to nine months by 2007, Ms Hewitt told GMTV's Sunday programme. Other plans include letting maternity pay be given to fathers and extending rights to parents of older children. The Tories dismissed the maternity pay plan as \"desperate\", while the Liberal Democrats said it was misdirected.  Ms Hewitt said: \"We have already doubled the length of maternity pay, it was 13 weeks when we were elected, we have already taken it up to 26 weeks. \"We are going to extend the pay to nine months by 2007 and the aim is to get it right up to the full 12 months by the end of the next Parliament.\" She said new mothers were already entitled to 12 months leave, but that many women could not take it as only six of those months were paid. \"We have made a firm commitment. We will definitely extend the maternity pay, from the six months where it now is to nine months, that's the extra £1,400.\" She said ministers would consult on other proposals that could see fathers being allowed to take some of their partner's maternity pay or leave period, or extending the rights of flexible working to carers or parents of older children. The Shadow Secretary of State for the Family, Theresa May, said: \"These plans were announced by Gordon Brown in his pre-budget review in December and Tony Blair is now recycling it in his desperate bid to win back women voters.\"  She said the Conservatives would announce their proposals closer to the General Election. Liberal Democrat spokeswoman for women Sandra Gidley said: \"While mothers would welcome any extra maternity pay the Liberal Democrats feel this money is being misdirected.\" She said her party would boost maternity pay in the first six months to allow more women to stay at home in that time.  Ms Hewitt also stressed the plans would be paid for by taxpayers, not employers. But David Frost, director general of the British Chambers of Commerce, warned that many small firms could be \"crippled\" by the move. \"While the majority of any salary costs may be covered by the government's statutory pay, recruitment costs, advertising costs, retraining costs and the strain on the company will not be,\" he said. Further details of the government's plans will be outlined on Monday. New mothers are currently entitled to 90% of average earnings for the first six weeks after giving birth, followed by £102.80 a week until the baby is six months old.\n",
      "\n",
      "\n",
      "\n",
      "THE SUMMARY IS \n",
      " \n",
      " \n",
      "  ['She said new mothers were already entitled to 12 months leave, but that many women could not take it as only six of those months were paid.', 'Liberal Democrat spokeswoman for women Sandra Gidley said: \"While mothers would welcome any extra maternity pay the Liberal Democrats feel this money is being misdirected.\"', 'We will definitely extend the maternity pay, from the six months where it now is to nine months, that\\'s the extra £1,400.\"', \"She said ministers would consult on other proposals that could see fathers being allowed to take some of their partner's maternity pay or leave period, or extending the rights of flexible working to carers or parents of older children.\", 'Labour plans maternity pay rise  Maternity pay for new mothers is to rise by £1,400 as part of new proposals announced by the Trade and Industry Secretary Patricia Hewitt.']\n"
     ]
    }
   ],
   "source": [
    "#main\n",
    "ret = input(\"Do you want to enter a \\n 1.URL \\n 2.Text\\n\")\n",
    "\n",
    "if ret == 1:\n",
    "    url = input(\"Enter a URL\\n\")\n",
    "    process_url(url)\n",
    "else:\n",
    "    text = input(\"Enter the text \\n\")\n",
    "    process_text(text)"
   ]
  }
 ],
 "metadata": {
  "kernelspec": {
   "display_name": "Python 3",
   "language": "python",
   "name": "python3"
  },
  "language_info": {
   "codemirror_mode": {
    "name": "ipython",
    "version": 3
   },
   "file_extension": ".py",
   "mimetype": "text/x-python",
   "name": "python",
   "nbconvert_exporter": "python",
   "pygments_lexer": "ipython3",
   "version": "3.6.4"
  }
 },
 "nbformat": 4,
 "nbformat_minor": 2
}
